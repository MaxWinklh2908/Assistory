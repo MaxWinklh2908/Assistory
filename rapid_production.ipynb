{
 "cells": [
  {
   "cell_type": "markdown",
   "id": "30b77d09",
   "metadata": {},
   "source": [
    "## Generate the plan\n",
    "Save a game save from which you want to reach a production goal."
   ]
  },
  {
   "cell_type": "code",
   "execution_count": 1,
   "id": "5c7a0843",
   "metadata": {},
   "outputs": [],
   "source": [
    "START_STATS_FOLDER = 'example/example_data'\n",
    "# Extract the stats (TODO: set the save file path and uncomment the script)\n",
    "# START_SAV_FILE = '<your_save_file>.sav'\n",
    "# !python3 main_game_stats.py {START_SAV_FILE} --print-progress --out {START_STATS_FOLDER}"
   ]
  },
  {
   "cell_type": "markdown",
   "id": "ed77b009",
   "metadata": {},
   "source": [
    "The goal could be the costs of the milestone or the game phase or something entirely different. Create the suitable problem configuration for it."
   ]
  },
  {
   "cell_type": "code",
   "execution_count": 2,
   "id": "acbccda5",
   "metadata": {},
   "outputs": [
    {
     "name": "stdout",
     "output_type": "stream",
     "text": [
      "Number of involved recipes: 98\n",
      "Search solution in minimal number of steps\n",
      "-----------------\n",
      "Test with #steps:  4\n",
      "Create problem...\n",
      "Number of variables = 800\n",
      "Number of constraints = 680\n",
      "Optimize...\n",
      "Problem processed in 2358 milliseconds\n",
      "Iterations sufficient\n",
      "-----------------\n",
      "Test with #steps:  2\n",
      "Create problem...\n",
      "Number of variables = 400\n",
      "Number of constraints = 406\n",
      "Optimize...\n",
      "Problem processed in 1298 milliseconds\n",
      "Iterations sufficient\n",
      "-----------------\n",
      "Test with #steps:  1\n",
      "Create problem...\n",
      "Number of variables = 200\n",
      "Number of constraints = 269\n",
      "Optimize...\n",
      "Problem processed in 317 milliseconds\n",
      "Iterations insufficient\n",
      "Minimal number of steps: 2\n"
     ]
    }
   ],
   "source": [
    "# Calculate the plan\n",
    "RAPID_PROB_CONFIG_FILE = 'example/example_configurations/rapid_production_config.yml'\n",
    "RAPID_PLAN_OUT_FILE = 'data/rapid_plan_out.yml'\n",
    "\n",
    "!python3 main_rapid_production.py {RAPID_PROB_CONFIG_FILE} --out {RAPID_PLAN_OUT_FILE}"
   ]
  },
  {
   "cell_type": "markdown",
   "id": "56714aa0",
   "metadata": {},
   "source": [
    "## Execute the steps in the plan"
   ]
  },
  {
   "cell_type": "code",
   "execution_count": 3,
   "id": "33569d15",
   "metadata": {},
   "outputs": [],
   "source": [
    "STEP_ID = 0 # Increase after completing finishing all cells below and repeat\n",
    "# load libraries\n",
    "from assistory import game\n",
    "import yaml\n",
    "from assistory.optim.rapid_plan import RapidPlan\n",
    "\n",
    "# Load plan\n",
    "with open(RAPID_PLAN_OUT_FILE, 'r') as fp:\n",
    "    plan_data = yaml.safe_load(fp)\n",
    "plan = RapidPlan.from_dict(plan_data)\n",
    "\n",
    "recipes_existing = game.RecipeValues.load(START_STATS_FOLDER + '/base_recipe_count.yml')\n",
    "items_existing = game.ItemValues.load(START_STATS_FOLDER + '/base_items.yml')"
   ]
  },
  {
   "cell_type": "code",
   "execution_count": 4,
   "id": "2d25640a",
   "metadata": {},
   "outputs": [
    {
     "name": "stdout",
     "output_type": "stream",
     "text": [
      "Recipes to build:\n",
      "Recipe_Alternate_ReinforcedIronPlate_2_C 2.0\n",
      "Recipe_EncasedIndustrialBeam_C           1.0\n",
      "Recipe_Stator_C                          1.0\n",
      "\n",
      "Buildings to build:\n",
      "Desc_AssemblerMk1_C 4.0\n",
      "\n",
      "Investment costs:\n",
      "Desc_Cable_C               40.0\n",
      "Desc_IronPlateReinforced_C 32.0\n",
      "Desc_Rotor_C               16.0\n"
     ]
    }
   ],
   "source": [
    "# What investment is required?\n",
    "recipes_automated = plan.steps_recipes_automated[STEP_ID]\n",
    "buildings_for_step = plan.steps_recipe_factories[STEP_ID].get_buildings()\n",
    "investment_costs = buildings_for_step.get_costs()\n",
    "\n",
    "print('Recipes to build:')\n",
    "recipes_automated.round(3).pprint(0)\n",
    "print('\\nBuildings to build:')\n",
    "buildings_for_step.round(3).pprint(0)\n",
    "print('\\nInvestment costs:')\n",
    "investment_costs.round(3).pprint(0)\n",
    "# Collect investment costs"
   ]
  },
  {
   "cell_type": "markdown",
   "id": "cb9ecd95",
   "metadata": {},
   "source": [
    "Compare existing items with target"
   ]
  },
  {
   "cell_type": "code",
   "execution_count": 5,
   "id": "02475185",
   "metadata": {},
   "outputs": [
    {
     "name": "stdout",
     "output_type": "stream",
     "text": [
      "Investment costs reached? (Existing/Target)\n",
      "v Desc_IronPlateReinforced_C: 148/32.0\n",
      "v Desc_Rotor_C: 78/16.0\n",
      "v Desc_Cable_C: 1036/40.0\n"
     ]
    }
   ],
   "source": [
    "CURRENT_SAV_FILE = 'data/Assistory-phase-3.sav' # TODO: set to current save file path\n",
    "CURRENT_STATS_OUT_FOLDER = 'data/stats/phase-3'\n",
    "# iteratively save the game state to CURRENT_SAV_FILE and rerun the cell\n",
    "!python3 main_game_stats.py {CURRENT_SAV_FILE} --out {CURRENT_STATS_OUT_FOLDER}\n",
    "items_current = game.ItemValues.load(CURRENT_STATS_OUT_FOLDER + '/base_items.yml')\n",
    "\n",
    "print('Investment costs reached? (Existing/Target)')\n",
    "for item_name in investment_costs.as_dict_ignoring(0):\n",
    "    current_amount = items_current[item_name]\n",
    "    target_amount = investment_costs[item_name]\n",
    "    reached = 'v' if current_amount >= target_amount else 'x'\n",
    "    print(f'{reached} {item_name}: {current_amount}/{target_amount}')"
   ]
  },
  {
   "cell_type": "markdown",
   "id": "968a4b3a",
   "metadata": {},
   "source": [
    "Now, build the factories required to execute the automated production in the steps. Hint: Only the input items for the step duration must be provided to the factories."
   ]
  },
  {
   "cell_type": "code",
   "execution_count": 6,
   "id": "fb6b5669",
   "metadata": {},
   "outputs": [
    {
     "name": "stdout",
     "output_type": "stream",
     "text": [
      "\n",
      "Recipes reached? (Existing/Target)\n",
      "x Recipe_Alternate_ReinforcedIronPlate_2_C: 3.2/5.2\n",
      "x Recipe_EncasedIndustrialBeam_C: 0/1.0\n",
      "x Recipe_Stator_C: 0.2/1.2\n"
     ]
    }
   ],
   "source": [
    "# iteratively save the game state to CURRENT_SAV_FILE and rerun the cell\n",
    "!python3 main_game_stats.py {CURRENT_SAV_FILE} --out {CURRENT_STATS_OUT_FOLDER}\n",
    "recipes_current = game.RecipeValues.load(CURRENT_STATS_OUT_FOLDER + '/base_recipe_count_rounded.yml')\n",
    "\n",
    "recipes_target_rounded = (recipes_automated + recipes_existing).round(3)\n",
    "recipes_existing_rounded = recipes_existing.round(3)\n",
    "print('\\nRecipes reached? (Existing/Target)')\n",
    "for recipe_name in recipes_automated.round(3).as_dict_ignoring(0):\n",
    "    current_amount = recipes_current[recipe_name]\n",
    "    target_amount = recipes_target_rounded[recipe_name]\n",
    "    reached = 'v' if current_amount >= target_amount else 'x'\n",
    "    print(f'{reached} {recipe_name}: {current_amount}/{target_amount}')\n",
    "# Build the factories with required recipes at the correct clock rate"
   ]
  },
  {
   "cell_type": "markdown",
   "id": "9b2d2b9f",
   "metadata": {},
   "source": [
    "What manual work needs to be done during step?"
   ]
  },
  {
   "cell_type": "code",
   "execution_count": 7,
   "id": "654c236d",
   "metadata": {},
   "outputs": [
    {
     "name": "stdout",
     "output_type": "stream",
     "text": [
      "Time of execute handcraft recipes (in seconds):\n",
      "Recipe_EncasedIndustrialBeam_C 61.667\n",
      "Recipe_HandcraftStone_C        3.458\n",
      "Recipe_IronPlateReinforced_C   5.625\n",
      "Recipe_ModularFrame_C          93.75\n",
      "Recipe_PortableMiner_C         30.0\n",
      "\n",
      "Handcraft production goal:\n",
      "BP_ItemDescriptorPortableMiner_C 6.0\n",
      "Desc_Cement_C                    -296.0\n",
      "Desc_IronPlateReinforced_C       -71.25\n",
      "Desc_IronPlate_C                 -34.5\n",
      "Desc_IronRod_C                   -324.0\n",
      "Desc_IronScrew_C                 -45.0\n",
      "Desc_ModularFrame_C              50.0\n",
      "Desc_SteelPlateReinforced_C      49.333\n",
      "Desc_SteelPlate_C                -148.0\n",
      "Desc_Stone_C                     4.611\n"
     ]
    }
   ],
   "source": [
    "import main_rapid_production\n",
    "rapid_conf = main_rapid_production.RapidProductionProblemUserConfig.load_from_file(\n",
    "    RAPID_PROB_CONFIG_FILE\n",
    ").get_problem_configuration()\n",
    "\n",
    "recipes_handcraft = plan.steps_recipes_handcraft[STEP_ID]\n",
    "recipes_handcraft_step = recipes_handcraft * rapid_conf.step_duration\n",
    "\n",
    "print('Time of execute handcraft recipes (in seconds):')\n",
    "handcraft_duration = (rapid_conf.step_duration * 60) * recipes_handcraft\n",
    "handcraft_duration.round(3).pprint(ignore_value=0)\n",
    "print('\\nHandcraft production goal:')\n",
    "recipes_handcraft_step.get_item_rate_balance_handcraft().round(3).pprint(ignore_value=0)\n",
    "# Build the required items during the step duration"
   ]
  },
  {
   "cell_type": "markdown",
   "id": "58136110",
   "metadata": {},
   "source": [
    "Is step finalized? This is the case if the item amount is reached"
   ]
  },
  {
   "cell_type": "code",
   "execution_count": 8,
   "id": "b9c122d4",
   "metadata": {},
   "outputs": [
    {
     "name": "stdout",
     "output_type": "stream",
     "text": [
      "\n",
      "Step target reached? (Existing/Target)\n",
      "x BP_ItemDescriptorPortableMiner_C: 1/6.0\n",
      "v Desc_Cable_C: 1036/946.0\n",
      "v Desc_Cement_C: 500/120.0\n",
      "v Desc_IronPlateReinforced_C: 148/44.0\n",
      "v Desc_IronPlate_C: 474/254.0\n",
      "v Desc_IronRod_C: 377/57.0\n",
      "v Desc_IronScrew_C: 344/299.0\n",
      "x Desc_ModularFrame_C: 4/50.0\n",
      "x Desc_Rotor_C: 78/92.0\n",
      "x Desc_Stator_C: 1/25.0\n",
      "v Desc_SteelPipe_C: 212/46.0\n",
      "v Desc_SteelPlateReinforced_C: 96/79.3333\n",
      "v Desc_SteelPlate_C: 200/153.0\n",
      "x Desc_Stone_C: 0/4.6111\n",
      "v Desc_Wire_C: 934/613.0\n"
     ]
    }
   ],
   "source": [
    "# iteratively save the game state to CURRENT_SAV_FILE and rerun the cell\n",
    "!python3 main_game_stats.py {CURRENT_SAV_FILE} --out {CURRENT_STATS_OUT_FOLDER}\n",
    "items_current = game.ItemValues.load(CURRENT_STATS_OUT_FOLDER + '/base_items.yml')\n",
    "\n",
    "items_step_target = items_existing\n",
    "for step_i in range(STEP_ID + 1):\n",
    "    step_item_rate = plan.get_item_rates(step_i)\n",
    "    items_step_target += step_item_rate * rapid_conf.step_duration\n",
    "\n",
    "print('\\nStep target reached? (Existing/Target)')\n",
    "items_step_target = items_step_target.round(4)\n",
    "for item_name in sorted(items_step_target.as_dict_ignoring(0)):\n",
    "    current_amount = items_current[item_name]\n",
    "    target_amount = items_step_target[item_name]\n",
    "    if current_amount == target_amount:\n",
    "        continue\n",
    "    reached = 'v' if current_amount >= target_amount else 'x'\n",
    "    print(f'{reached} {item_name}: {current_amount}/{target_amount}')\n",
    "# Produce until reached"
   ]
  },
  {
   "cell_type": "markdown",
   "id": "1acc113d",
   "metadata": {},
   "source": [
    "Disassemble the added factories"
   ]
  },
  {
   "cell_type": "code",
   "execution_count": 9,
   "id": "3db8c970",
   "metadata": {},
   "outputs": [
    {
     "name": "stdout",
     "output_type": "stream",
     "text": [
      "\n",
      "Recipes disassembled? (Existing/Target)\n",
      "v Recipe_Alternate_ReinforcedIronPlate_2_C: 3.2/3.2\n",
      "v Recipe_EncasedIndustrialBeam_C: 0/0\n",
      "v Recipe_Stator_C: 0.2/0.2\n"
     ]
    }
   ],
   "source": [
    "# Is step finalized? This is the case if the item amount is reached\n",
    "!python3 main_game_stats.py {CURRENT_SAV_FILE} --out {CURRENT_STATS_OUT_FOLDER}\n",
    "recipes_current = game.RecipeValues.load(CURRENT_STATS_OUT_FOLDER + '/base_recipe_count.yml')\n",
    "\n",
    "recipes_current_rounded = recipes_current.round(3)\n",
    "recipes_existing_rounded = recipes_existing.round(3)\n",
    "print('\\nRecipes disassembled? (Existing/Target)')\n",
    "for recipe_name in sorted(recipes_automated.as_dict_ignoring(0)):\n",
    "    current_amount = recipes_current_rounded[recipe_name]\n",
    "    target_amount = recipes_existing_rounded[recipe_name]\n",
    "    reached = 'v' if current_amount == target_amount else 'x'\n",
    "    print(f'{reached} {recipe_name}: {current_amount}/{target_amount}')"
   ]
  }
 ],
 "metadata": {
  "kernelspec": {
   "display_name": "Python 3",
   "language": "python",
   "name": "python3"
  },
  "language_info": {
   "codemirror_mode": {
    "name": "ipython",
    "version": 3
   },
   "file_extension": ".py",
   "mimetype": "text/x-python",
   "name": "python",
   "nbconvert_exporter": "python",
   "pygments_lexer": "ipython3",
   "version": "3.8.10"
  }
 },
 "nbformat": 4,
 "nbformat_minor": 5
}
