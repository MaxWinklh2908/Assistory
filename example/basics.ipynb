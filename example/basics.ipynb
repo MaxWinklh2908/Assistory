{
 "cells": [
  {
   "cell_type": "markdown",
   "id": "b939a7cc",
   "metadata": {},
   "source": [
    "# Examples of Assistory Library: Basics\n",
    "\n",
    "Table of content\n",
    "- Item\n",
    "- Resource node\n",
    "- Building\n",
    "- Recipe\n",
    "- Schematic\n",
    "\n",
    "See [Class Dependencies](../library_programming_guide.md) for more details"
   ]
  },
  {
   "cell_type": "code",
   "execution_count": 1,
   "id": "61955b25",
   "metadata": {},
   "outputs": [],
   "source": [
    "import sys, os\n",
    "os.chdir('..')\n",
    "\n",
    "assert 'assistory' in os.listdir(os.getcwd())\n",
    "sys.path.append(os.getcwd())\n",
    "\n",
    "from assistory import game"
   ]
  },
  {
   "cell_type": "markdown",
   "id": "b578ef46",
   "metadata": {},
   "source": [
    "## Item\n",
    "Item data is provided as key value pairs with a dictionary of attributes as value"
   ]
  },
  {
   "cell_type": "code",
   "execution_count": 2,
   "id": "ec5c5578",
   "metadata": {},
   "outputs": [
    {
     "name": "stdout",
     "output_type": "stream",
     "text": [
      "ITEMS Count: 180 . Example: BP_EqDescZipLine_C\n"
     ]
    },
    {
     "data": {
      "text/plain": [
       "{'slug': 'zipline',\n",
       " 'className': 'BP_EqDescZipLine_C',\n",
       " 'name': 'Zipline',\n",
       " 'sinkPoints': 5284,\n",
       " 'description': 'Provides faster traversal of factories by allowing pioneers to zip along Power lines.\\nActivate the Zipline and aim at a nearby Power Line to connect to it.',\n",
       " 'stackSize': 1,\n",
       " 'energyValue': 0,\n",
       " 'radioactiveDecay': 0,\n",
       " 'liquid': False,\n",
       " 'fluidColor': {'r': 255, 'g': 255, 'b': 255, 'a': 0}}"
      ]
     },
     "execution_count": 2,
     "metadata": {},
     "output_type": "execute_result"
    }
   ],
   "source": [
    "item_name = list(game.ITEMS)[0]\n",
    "print('ITEMS Count:', len(game.ITEMS), '. Example:', item_name)\n",
    "game.ITEMS[item_name]"
   ]
  },
  {
   "cell_type": "markdown",
   "id": "be67f69e",
   "metadata": {},
   "source": [
    "Items have solid, liquid or gas form. Gas and liquid behave equally. Hence, only `ITEM_NAMES_LIQUID` is defined"
   ]
  },
  {
   "cell_type": "code",
   "execution_count": 3,
   "id": "dc981958",
   "metadata": {},
   "outputs": [
    {
     "name": "stdout",
     "output_type": "stream",
     "text": [
      "ITEM_NAMES_LIQUID Count: 15 . Example: Desc_AluminaSolution_C\n"
     ]
    },
    {
     "data": {
      "text/plain": [
       "{'slug': 'alumina-solution',\n",
       " 'className': 'Desc_AluminaSolution_C',\n",
       " 'name': 'Alumina Solution',\n",
       " 'sinkPoints': 20,\n",
       " 'description': 'Dissolved Alumina, extracted from Bauxite. Can be further refined into Aluminum Scrap for Aluminum Ingot production.',\n",
       " 'stackSize': 50000,\n",
       " 'energyValue': 0,\n",
       " 'radioactiveDecay': 0,\n",
       " 'liquid': True,\n",
       " 'fluidColor': {'r': 193, 'g': 193, 'b': 193, 'a': 0}}"
      ]
     },
     "execution_count": 3,
     "metadata": {},
     "output_type": "execute_result"
    }
   ],
   "source": [
    "item_name = game.ITEM_NAMES_LIQUID[0]\n",
    "print('ITEM_NAMES_LIQUID Count:', len(game.ITEM_NAMES_LIQUID), '. Example:', item_name)\n",
    "game.ITEMS[item_name]"
   ]
  },
  {
   "cell_type": "markdown",
   "id": "dfb08c72",
   "metadata": {},
   "source": [
    "Similarly, items with special characteristics are summarized in `ITEM_NAMES_RADIOACTIVE`, `ITEM_NAMES_NON_SELLABLE` and `ITEM_NAMES_EXTRACTION`.\n",
    "\n",
    "To represent an amount of multiple different items, use the class `ItemValues`. Compared to a simple `dict` it checks validity of the item names and always represents to amount of all items in `ITEMS`."
   ]
  },
  {
   "cell_type": "code",
   "execution_count": 4,
   "id": "c1e7dec5",
   "metadata": {},
   "outputs": [
    {
     "name": "stdout",
     "output_type": "stream",
     "text": [
      "{'Desc_AluminaSolution_C': 100, 'BP_EqDescZipLine_C': 5.5}\n"
     ]
    }
   ],
   "source": [
    "items = game.ItemValues(\n",
    "    {\n",
    "        'Desc_AluminaSolution_C': 100, # liters\n",
    "        'BP_EqDescZipLine_C': 5.5 # pieces\n",
    "    }\n",
    ")\n",
    "print(items)"
   ]
  },
  {
   "cell_type": "code",
   "execution_count": 5,
   "id": "55a7bd01",
   "metadata": {},
   "outputs": [
    {
     "name": "stdout",
     "output_type": "stream",
     "text": [
      "Unknown key: Desc_RandomItemName_C. Did you mean: \"Desc_Computer_C\"?\n"
     ]
    }
   ],
   "source": [
    "try:\n",
    "    game.ItemValues({'Desc_RandomItemName_C': 1}) # will raise an error\n",
    "except ValueError as e:\n",
    "    print(e)"
   ]
  },
  {
   "cell_type": "markdown",
   "id": "77b476f0",
   "metadata": {},
   "source": [
    "Note:\n",
    "- The unit of liquid (and gas) items is liters and the unit of solid items is pieces\n",
    "- Differently than in the game, the amounts are floating point values (Required for optimization)\n",
    "\n",
    "Items can be loaded and stored"
   ]
  },
  {
   "cell_type": "code",
   "execution_count": 6,
   "id": "0049d98e",
   "metadata": {},
   "outputs": [
    {
     "name": "stdout",
     "output_type": "stream",
     "text": [
      "{'Desc_Cable_C': 30.0, 'Desc_Cement_C': 20.0, 'Desc_IronPlateReinforced_C': 10.5, 'Desc_Rotor_C': 10.0, 'Desc_SpaceElevatorPart_2_C': 10.0, 'Desc_Stator_C': 1.0, 'Desc_SteelPipe_C': 8.25, 'Desc_Wire_C': 22.0}\n"
     ]
    }
   ],
   "source": [
    "items2 = game.ItemValues.load('example/example_data/base_item_rate.yml')\n",
    "print(items2.round(3))\n",
    "items2.save('/tmp/items_out.yml')"
   ]
  },
  {
   "cell_type": "markdown",
   "id": "a9aac638",
   "metadata": {},
   "source": [
    "Classes that are subclass `Values`, like `ItemValues` support addition and subtraction."
   ]
  },
  {
   "cell_type": "code",
   "execution_count": 7,
   "id": "c09bf409",
   "metadata": {},
   "outputs": [
    {
     "name": "stdout",
     "output_type": "stream",
     "text": [
      "I - I =  {}\n",
      "I + I =  {'Desc_AluminaSolution_C': 200, 'BP_EqDescZipLine_C': 11.0}\n",
      "111.75\n",
      "6.25\n"
     ]
    }
   ],
   "source": [
    "print('I - I = ', items - items)\n",
    "print('I + I = ', items + items)\n",
    "print(sum(items2.values()))\n",
    "items2 -= items\n",
    "print(sum(items2.values()))"
   ]
  },
  {
   "cell_type": "markdown",
   "id": "396c3e12",
   "metadata": {},
   "source": [
    "To represent a set of different items, use the class `ItemFlags` subclassing `set`. Compared to a simple `set` it checks validity of the item names and `ITEMS`"
   ]
  },
  {
   "cell_type": "code",
   "execution_count": 8,
   "id": "dc8fb97c",
   "metadata": {},
   "outputs": [
    {
     "name": "stdout",
     "output_type": "stream",
     "text": [
      "Unknown flag: \"Desc_FooBar_C\". Did you mean: \"Desc_Rotor_C\"?\n"
     ]
    }
   ],
   "source": [
    "item_flags = game.ItemFlags({'BP_EqDescZipLine_C'})\n",
    "try:\n",
    "    item_flags.add('Desc_FooBar_C')\n",
    "except ValueError as e:\n",
    "    print(e)"
   ]
  },
  {
   "cell_type": "markdown",
   "id": "dbcbd4fa",
   "metadata": {},
   "source": [
    "Classes that are a subclass of `Flags`, like `ItemFlags` support ``as_array``. It returns a numpy array with a boolean value for each possible element, e.g. each item in `ITEMS`, whether the element in contained in the ``Flags`` object."
   ]
  },
  {
   "cell_type": "code",
   "execution_count": 9,
   "id": "59003090",
   "metadata": {},
   "outputs": [
    {
     "name": "stdout",
     "output_type": "stream",
     "text": [
      "BP_EqDescZipLine_C is contained\n",
      "BP_EquipmentDescriptorGasmask_C is not contained\n",
      "BP_EquipmentDescriptorHazmatSuit_C is not contained\n",
      "BP_EquipmentDescriptorHoverPack_C is not contained\n",
      "BP_EquipmentDescriptorJetPack_C is not contained\n",
      "...\n"
     ]
    }
   ],
   "source": [
    "flag_array = item_flags.as_array()\n",
    "for item_name, contained, _ in zip(sorted(game.ITEMS), flag_array, range(5)):\n",
    "    print(item_name, 'is', 'contained' if contained else 'not contained')\n",
    "print('...')"
   ]
  },
  {
   "cell_type": "markdown",
   "id": "e86b268d",
   "metadata": {},
   "source": [
    "## Resource Node\n",
    "`RESOURCE_NODES` defines resource node types analog to `ITEMS`"
   ]
  },
  {
   "cell_type": "code",
   "execution_count": 10,
   "id": "1f47c25a",
   "metadata": {},
   "outputs": [
    {
     "name": "stdout",
     "output_type": "stream",
     "text": [
      "RESOURCE_NODES Count: 15 . Example: Desc_Stone_C-non_fracking\n"
     ]
    },
    {
     "data": {
      "text/plain": [
       "{'resource_name': 'Desc_Stone_C',\n",
       " 'method_name': 'non_fracking',\n",
       " 'extraction_recipes': ('Recipe_MinerMk1Stone_C',\n",
       "  'Recipe_MinerMk2Stone_C',\n",
       "  'Recipe_MinerMk3Stone_C')}"
      ]
     },
     "execution_count": 10,
     "metadata": {},
     "output_type": "execute_result"
    }
   ],
   "source": [
    "node_name = list(game.RESOURCE_NODES)[0]\n",
    "print('RESOURCE_NODES Count:', len(game.RESOURCE_NODES), '. Example:', node_name)\n",
    "game.RESOURCE_NODES[node_name]"
   ]
  },
  {
   "cell_type": "markdown",
   "id": "f9c4c96e",
   "metadata": {},
   "source": [
    "Besides, the real node names in the game can be used to lookup the type of the node using `UNIQUE_NODES`. `NODE_RECIPES_AVAILABLE` summarizes the amount of each node type."
   ]
  },
  {
   "cell_type": "code",
   "execution_count": 11,
   "id": "822791fb",
   "metadata": {},
   "outputs": [
    {
     "name": "stdout",
     "output_type": "stream",
     "text": [
      "UNIQUE_NODES Count: 608 . Example: BP_ResourceNode462_UAID_40B076DF2F7907E201_1624182051\n",
      "{'resource': 'Desc_OreIron_C', 'fracking': False, 'purity': 'impure'}\n",
      "Available recipe amount of this node type: 153.5\n"
     ]
    }
   ],
   "source": [
    "unique_node_name = list(game.UNIQUE_NODES)[0]\n",
    "print('UNIQUE_NODES Count:', len(game.UNIQUE_NODES), '. Example:', unique_node_name)\n",
    "print(game.UNIQUE_NODES[unique_node_name])\n",
    "\n",
    "print('Available recipe amount of this node type:', game.NODE_RECIPES_AVAILABLE[game.get_resource_node_name('Desc_OreIron_C', fracking=False)])"
   ]
  },
  {
   "cell_type": "markdown",
   "id": "84c28710",
   "metadata": {},
   "source": [
    "## Building\n",
    "`BUILDINGS` defines factory buildings analog to ``ITEMS``."
   ]
  },
  {
   "cell_type": "code",
   "execution_count": 12,
   "id": "586e5213",
   "metadata": {},
   "outputs": [
    {
     "name": "stdout",
     "output_type": "stream",
     "text": [
      "BUILDINGS Count: 23 . Example: Desc_AlienPowerBuilding_C\n"
     ]
    },
    {
     "data": {
      "text/plain": [
       "{'power_consumption': 0,\n",
       " 'costs': {'Desc_WAT1_C': 10, 'Desc_SAMFluctuator_C': 50, 'Desc_Cable_C': 100, 'Desc_SteelPlateReinforced_C': 50, 'Desc_Motor_C': 25, 'Desc_Computer_C': 10}}"
      ]
     },
     "execution_count": 12,
     "metadata": {},
     "output_type": "execute_result"
    }
   ],
   "source": [
    "building_name = list(game.BUILDINGS)[0]\n",
    "print('BUILDINGS Count:', len(game.BUILDINGS), '. Example:', building_name)\n",
    "\n",
    "game.BUILDINGS[building_name]"
   ]
  },
  {
   "cell_type": "markdown",
   "id": "f2658564",
   "metadata": {},
   "source": [
    "`BuildingValues` provide additional methods over the ones from `Values`"
   ]
  },
  {
   "cell_type": "code",
   "execution_count": 13,
   "id": "fd9f17d8",
   "metadata": {},
   "outputs": [
    {
     "name": "stdout",
     "output_type": "stream",
     "text": [
      "Costs:\n",
      "Desc_Cable_C                120\n",
      "Desc_Computer_C             10\n",
      "Desc_IronPlateReinforced_C  16\n",
      "Desc_Motor_C                25\n",
      "Desc_Rotor_C                8\n",
      "Desc_SAMFluctuator_C        50\n",
      "Desc_SteelPlateReinforced_C 50\n",
      "Desc_WAT1_C                 10\n",
      "Power balance: -30.0\n"
     ]
    }
   ],
   "source": [
    "buildings = game.BuildingValues(\n",
    "    {\n",
    "        'Desc_AlienPowerBuilding_C': 1,\n",
    "        'Desc_AssemblerMk1_C': 2\n",
    "    }\n",
    ")\n",
    "print('Costs:')\n",
    "buildings.get_costs().pprint(0)\n",
    "print('Power balance:', buildings.get_power_balance())"
   ]
  },
  {
   "cell_type": "markdown",
   "id": "044ea171",
   "metadata": {},
   "source": [
    "## Recipe\n",
    "`RECIPES` defines factory buildings analog to ``ITEMS``."
   ]
  },
  {
   "cell_type": "code",
   "execution_count": 14,
   "id": "006368e8",
   "metadata": {},
   "outputs": [
    {
     "name": "stdout",
     "output_type": "stream",
     "text": [
      "RECIPES Count: 371 . Example: Recipe_AILimiter_C\n"
     ]
    },
    {
     "data": {
      "text/plain": [
       "{'name': 'AI Limiter',\n",
       " 'ingredients': {'Desc_CopperSheet_C': 5, 'Desc_HighSpeedWire_C': 20},\n",
       " 'products': {'Desc_CircuitBoardHighSpeed_C': 1},\n",
       " 'producedIn': {'Desc_AssemblerMk1_C'},\n",
       " 'time': 12.0,\n",
       " 'manualTimeMultiplier': 1.0}"
      ]
     },
     "execution_count": 14,
     "metadata": {},
     "output_type": "execute_result"
    }
   ],
   "source": [
    "recipe_name = 'Recipe_AILimiter_C'\n",
    "print('RECIPES Count:', len(game.RECIPES), '. Example:', recipe_name)\n",
    "game.RECIPES[recipe_name]"
   ]
  },
  {
   "cell_type": "markdown",
   "id": "c2040bb0",
   "metadata": {},
   "source": [
    "`RecipeValues` provide special methods"
   ]
  },
  {
   "cell_type": "code",
   "execution_count": 15,
   "id": "e6d87109",
   "metadata": {},
   "outputs": [
    {
     "name": "stdout",
     "output_type": "stream",
     "text": [
      "Item rate per minute:\n",
      "Desc_CircuitBoardHighSpeed_C 5.0\n",
      "Desc_HighSpeedWire_C         -100.0\n",
      "\n",
      "Requried buidings:\n",
      "Desc_AssemblerMk1_C   1\n",
      "Desc_ConstructorMk1_C 2.5\n",
      "Desc_MinerMk2_C       0.417\n",
      "Desc_SmelterMk1_C     1.667\n",
      "\n",
      "Resource nodes used:\n",
      "Desc_OreCopper_C-non_fracking 0.417\n"
     ]
    }
   ],
   "source": [
    "recipes = game.RecipeValues({\n",
    "    'Recipe_MinerMk2OreCopper_C': 50 / 120,\n",
    "    'Recipe_IngotCopper_C': 50 / 30,\n",
    "    'Recipe_CopperSheet_C': 25 / 10,\n",
    "    'Recipe_AILimiter_C': 1,\n",
    "})\n",
    "print('Item rate per minute:')\n",
    "recipes.get_item_rate_balance().round(3).pprint(0)\n",
    "print('\\nRequried buidings:')\n",
    "recipes.get_buildings().round(3).pprint(0)\n",
    "print('\\nResource nodes used:')\n",
    "recipes.get_resource_nodes_used().round(3).pprint(0)"
   ]
  },
  {
   "cell_type": "markdown",
   "id": "5f6c5b52",
   "metadata": {},
   "source": [
    "A subset of recipes can (only or optionally) be executed by hand, i.e. without automation, which implies a different speed. These recipes are named in `RECIPE_NAMES_HANDCRAFTED`."
   ]
  },
  {
   "cell_type": "code",
   "execution_count": 16,
   "id": "e1f141a0",
   "metadata": {},
   "outputs": [
    {
     "name": "stdout",
     "output_type": "stream",
     "text": [
      "Item rate per minute:\n",
      "Desc_CircuitBoardHighSpeed_C 40.0\n",
      "Desc_CopperSheet_C           -200.0\n",
      "Desc_HighSpeedWire_C         -800.0\n"
     ]
    }
   ],
   "source": [
    "recipes2 = game.RecipeValues(\n",
    "    {'Recipe_AILimiter_C': 1},\n",
    "    omega=game.RECIPE_NAMES_HANDCRAFTED\n",
    ")\n",
    "print('Item rate per minute:')\n",
    "recipes2.get_item_rate_balance_handcraft().pprint(0)"
   ]
  },
  {
   "cell_type": "markdown",
   "id": "1c341b1a",
   "metadata": {},
   "source": [
    "`RecipeFlags` allows summaries of involved items and buildings"
   ]
  },
  {
   "cell_type": "code",
   "execution_count": 17,
   "id": "ba53aab0",
   "metadata": {},
   "outputs": [
    {
     "name": "stdout",
     "output_type": "stream",
     "text": [
      "Items consumed: ['Desc_Stone_C']\n",
      "Items produced: ['Desc_Cement_C', 'Desc_Stone_C']\n",
      "Buildings involved: ['Desc_ConstructorMk1_C', 'Desc_MinerMk1_C']\n"
     ]
    }
   ],
   "source": [
    "recipe_flags = game.RecipeFlags({'Recipe_MinerMk1Stone_C', 'Recipe_Concrete_C'})\n",
    "print('Items consumed:', sorted(recipe_flags.get_items_consumed()))\n",
    "print('Items produced:', sorted(recipe_flags.get_items_produced()))\n",
    "print('Buildings involved:', sorted(recipe_flags.get_buildings_involved()))"
   ]
  },
  {
   "cell_type": "markdown",
   "id": "fcfb4448",
   "metadata": {},
   "source": [
    "# Schematic\n",
    "`SCHEMATICS` defines schematics analog to `ITEMS`. They include research at the MAM, milestones and project assembly phases"
   ]
  },
  {
   "cell_type": "code",
   "execution_count": 18,
   "id": "6f13777b",
   "metadata": {},
   "outputs": [
    {
     "name": "stdout",
     "output_type": "stream",
     "text": [
      "SCHEMATICS Count: 557 . Example: Schematic_3-4_C\n"
     ]
    },
    {
     "data": {
      "text/plain": [
       "{'name': 'Basic Steel Production',\n",
       " 'costs': {'Desc_ModularFrame_C': 50, 'Desc_Rotor_C': 150, 'Desc_Cement_C': 500, 'Desc_Wire_C': 1000},\n",
       " 'unlock_recipes': {'Recipe_IngotSteel_C',\n",
       "  'Recipe_SpaceElevatorPart_2_C',\n",
       "  'Recipe_SteelBeam_C',\n",
       "  'Recipe_SteelPipe_C'},\n",
       " 'unlock_buildings': {'Desc_FoundryMk1_C'}}"
      ]
     },
     "execution_count": 18,
     "metadata": {},
     "output_type": "execute_result"
    }
   ],
   "source": [
    "schematic_name = 'Schematic_3-4_C'\n",
    "print('SCHEMATICS Count:', len(game.SCHEMATICS), '. Example:', schematic_name)\n",
    "game.SCHEMATICS[schematic_name]"
   ]
  },
  {
   "cell_type": "markdown",
   "id": "dc06c883",
   "metadata": {},
   "source": [
    "Unlocked schematics make available recipes and building. The building in which a recipe is used needs to be unlocked to include the recipe in the `get_recipes_unlocked` function."
   ]
  },
  {
   "cell_type": "code",
   "execution_count": 19,
   "id": "52b332f4",
   "metadata": {},
   "outputs": [
    {
     "name": "stdout",
     "output_type": "stream",
     "text": [
      "Recipes potentially unlocked: ['Recipe_Alternate_SteelPipe_Molded_C', 'Recipe_IngotSteel_C', 'Recipe_SpaceElevatorPart_2_C', 'Recipe_SteelBeam_C', 'Recipe_SteelPipe_C']\n",
      "Buildings required: ['Desc_AssemblerMk1_C', 'Desc_ConstructorMk1_C', 'Desc_FoundryMk1_C']\n",
      "Buildings unlocked: ['Desc_FoundryMk1_C']\n",
      "Recipes unlocked: ['Recipe_Alternate_SteelPipe_Molded_C', 'Recipe_IngotSteel_C']\n"
     ]
    }
   ],
   "source": [
    "schematic_flags = game.SchematicFlags([\n",
    "    'Schematic_3-4_C',\n",
    "    'Schematic_Alternate_SteelPipe_Molded_C',\n",
    "])\n",
    "all_recipes_unlocked = (\n",
    "    game.SCHEMATICS['Schematic_3-4_C']['unlock_recipes']\n",
    "    | game.SCHEMATICS['Schematic_Alternate_SteelPipe_Molded_C']['unlock_recipes']\n",
    ")\n",
    "print('Recipes potentially unlocked:', sorted(all_recipes_unlocked))\n",
    "print('Buildings required:', sorted(all_recipes_unlocked.get_buildings_involved()))\n",
    "print('Buildings unlocked:', sorted(schematic_flags.get_buildings_unlocked()))\n",
    "print('Recipes unlocked:', sorted(schematic_flags.get_recipes_unlocked()))\n"
   ]
  }
 ],
 "metadata": {
  "kernelspec": {
   "display_name": "Python 3",
   "language": "python",
   "name": "python3"
  },
  "language_info": {
   "codemirror_mode": {
    "name": "ipython",
    "version": 3
   },
   "file_extension": ".py",
   "mimetype": "text/x-python",
   "name": "python",
   "nbconvert_exporter": "python",
   "pygments_lexer": "ipython3",
   "version": "3.8.10"
  }
 },
 "nbformat": 4,
 "nbformat_minor": 5
}
