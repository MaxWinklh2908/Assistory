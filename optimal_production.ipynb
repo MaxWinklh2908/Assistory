{
 "cells": [
  {
   "cell_type": "markdown",
   "id": "088731ae",
   "metadata": {},
   "source": [
    "# Investitage the current status\n",
    "\n",
    "Store a game save from which you want to take constraints for the optimal production.\n",
    "\n",
    "In this example, the factory is at a state after completing Phase 2. It looks like this (visualization via [Satisfactor Calculator](https://satisfactory-calculator.com/en/interactive-map):\n",
    "\n",
    "![Production Map](./docs/Assistory-phase-2-completed.png))"
   ]
  },
  {
   "cell_type": "code",
   "execution_count": 1,
   "id": "70825395",
   "metadata": {},
   "outputs": [],
   "source": [
    "STATS_FOLDER = 'example/example_data'\n",
    "# Extract the stats (TODO: set the save file path and uncomment the script)\n",
    "# START_SAV_FILE = '<your_save_file>.sav'\n",
    "# !python3 main_game_stats.py {START_SAV_FILE} --print-progress --out {START_STATS_FOLDER}"
   ]
  },
  {
   "cell_type": "markdown",
   "id": "05d3fa5e",
   "metadata": {},
   "source": [
    "We can investigate some stats:"
   ]
  },
  {
   "cell_type": "code",
   "execution_count": 2,
   "id": "3fb4500d",
   "metadata": {},
   "outputs": [
    {
     "name": "stdout",
     "output_type": "stream",
     "text": [
      "Existing item balance:\n",
      "Desc_Cable_C               30.0\n",
      "Desc_Cement_C              20.0\n",
      "Desc_IronPlateReinforced_C 10.5\n",
      "Desc_Rotor_C               10.0\n",
      "Desc_SpaceElevatorPart_2_C 10.0\n",
      "Desc_Stator_C              1.0\n",
      "Desc_SteelPipe_C           8.25\n",
      "Desc_Wire_C                22.0\n"
     ]
    }
   ],
   "source": [
    "from assistory import game\n",
    "\n",
    "base_item_rate = game.ItemValues.load(STATS_FOLDER + '/base_item_rate.yml')\n",
    "print('Existing item balance:')\n",
    "base_item_rate.pprint(0)"
   ]
  },
  {
   "cell_type": "code",
   "execution_count": 3,
   "id": "57a408ab",
   "metadata": {},
   "outputs": [
    {
     "name": "stdout",
     "output_type": "stream",
     "text": [
      "Existing recipes:\n",
      "Recipe_Alternate_IngotSteel_1_C          4.5\n",
      "Recipe_Alternate_ReinforcedIronPlate_2_C 3.2\n",
      "Recipe_Alternate_Screw_C                 4.8\n",
      "Recipe_Alternate_SteelRod_C              1.094\n",
      "Recipe_Cable_C                           1.0\n",
      "Recipe_Concrete_C                        1.333\n",
      "Recipe_GeneratorCoalCoal_C               12.0\n",
      "Recipe_IngotCopper_C                     3.5\n",
      "Recipe_IngotIron_C                       12.0\n",
      "Recipe_IronPlate_C                       3.0\n",
      "Recipe_IronRod_C                         2.0\n",
      "Recipe_MinerMk1Coal_C                    6.0\n",
      "Recipe_MinerMk1OreCopper_C               1.75\n",
      "Recipe_MinerMk1OreIron_C                 6.0\n",
      "Recipe_MinerMk1Stone_C                   1.0\n",
      "Recipe_ModularFrame_C                    2.5\n",
      "Recipe_Rotor_C                           2.5\n",
      "Recipe_Screw_C                           0.25\n",
      "Recipe_SpaceElevatorPart_2_C             2.0\n",
      "Recipe_Stator_C                          0.2\n",
      "Recipe_SteelBeam_C                       4.0\n",
      "Recipe_SteelPipe_C                       0.562\n",
      "Recipe_WaterPumpWater_C                  4.5\n",
      "Recipe_Wire_C                            7.0\n"
     ]
    }
   ],
   "source": [
    "base_recipe_count = game.RecipeValues.load(STATS_FOLDER + '/base_recipe_count.yml')\n",
    "print('Existing recipes:')\n",
    "base_recipe_count.round(3).pprint(0)"
   ]
  },
  {
   "cell_type": "code",
   "execution_count": 4,
   "id": "4a425910",
   "metadata": {},
   "outputs": [
    {
     "name": "stdout",
     "output_type": "stream",
     "text": [
      "Occupied resource nodes:\n",
      "Desc_Coal_C-non_fracking      6.0\n",
      "Desc_OreCopper_C-non_fracking 1.75\n",
      "Desc_OreIron_C-non_fracking   6.0\n",
      "Desc_Stone_C-non_fracking     1.0\n"
     ]
    }
   ],
   "source": [
    "occupied_resource_nodes = game.ResourceNodeValues.load(STATS_FOLDER + '/occupied_resource_nodes.yml')\n",
    "print('Occupied resource nodes:')\n",
    "occupied_resource_nodes.round(2).pprint(0)"
   ]
  },
  {
   "cell_type": "markdown",
   "id": "87259594",
   "metadata": {},
   "source": [
    "# Generate the plan\n",
    "First, the objective and constraints are set. In this example, a production of motors should be build after completing phase 2."
   ]
  },
  {
   "cell_type": "code",
   "execution_count": 5,
   "id": "5c17a9fe",
   "metadata": {},
   "outputs": [],
   "source": [
    "static_production_config = dict()\n",
    "static_production_config['maximize_sell_rate'] = True\n",
    "static_production_config['weights_sell_rate'] = {\n",
    "    'Desc_Motor_C': 1 # only sell rate of motor is maximized now\n",
    "}"
   ]
  },
  {
   "cell_type": "markdown",
   "id": "da6fdc90",
   "metadata": {},
   "source": [
    "\n",
    "It can be observed that one of the copper miners is underclocked:\n",
    "```\n",
    "Recipe_MinerMk1OreCopper_C               1.75\n",
    "```\n",
    "It is a pure node and the miner runs at 87.5%, so, 0.25 copper nodes units are still free.\n",
    "\n",
    "All Miners in the current state are only Mk1. Using Mk2 the occupied nodes can provide 100% additional capacity."
   ]
  },
  {
   "cell_type": "code",
   "execution_count": 6,
   "id": "76b86f56",
   "metadata": {},
   "outputs": [],
   "source": [
    "available_resouce_nodes = occupied_resource_nodes.copy()\n",
    "available_resouce_nodes['Desc_OreCopper_C-non_fracking'] = 2.0\n",
    "static_production_config['available_resource_nodes'] = available_resouce_nodes.as_dict_ignoring(0)"
   ]
  },
  {
   "cell_type": "markdown",
   "id": "c1f38f29",
   "metadata": {},
   "source": [
    "Still 180MW power capacity is unused"
   ]
  },
  {
   "cell_type": "code",
   "execution_count": 7,
   "id": "8ea14a94",
   "metadata": {},
   "outputs": [],
   "source": [
    "static_production_config['base_power'] = 180"
   ]
  },
  {
   "cell_type": "markdown",
   "id": "8c2be353",
   "metadata": {},
   "source": [
    "Next, the configuration is written to file and the optimization is executed"
   ]
  },
  {
   "cell_type": "code",
   "execution_count": 8,
   "id": "9135beac",
   "metadata": {},
   "outputs": [
    {
     "name": "stdout",
     "output_type": "stream",
     "text": [
      "\n",
      "Power balance (MW):\n",
      "FoundryMk1(9.863) = -157.808\n",
      "SmelterMk1(32.0) = -128.0\n",
      "ConstructorMk1(104.159) = -416.636\n",
      "GeneratorCoal(21.699) = 1627.425\n",
      "MinerMk2(14.0) = -210.0\n",
      "AssemblerMk1(48.815) = -732.225\n",
      "WaterPump(8.137) = -162.74\n",
      "Total balance: -179.984 MW\n",
      "\n",
      "Required resource nodes:\n",
      "Desc_Coal_C-non_fracking      6.0\n",
      "Desc_OreCopper_C-non_fracking 2.0\n",
      "Desc_OreIron_C-non_fracking   6.0\n",
      "\n",
      "Sold items (/min):\n",
      "Cable = 30.0\n",
      "Cement = 20.0\n",
      "IronPlateReinforced = 10.5\n",
      "Motor = 46.832\n",
      "SpaceElevatorPart_2 = 10.0\n",
      "\n",
      "Objective value = 46.832\n",
      "\n",
      "Problem solved in 33 milliseconds\n"
     ]
    }
   ],
   "source": [
    "import yaml\n",
    "\n",
    "STATIC_PROD_CONF ='example/example_configurations/static_production_config.yml'\n",
    "with open(STATIC_PROD_CONF, 'w') as fp:\n",
    "    yaml.safe_dump(static_production_config, fp, indent=2)\n",
    "\n",
    "user_config = {\n",
    "    'base_item_rate_file': 'example/example_data/base_item_rate.yml',\n",
    "    'static_production_config_file': STATIC_PROD_CONF,\n",
    "    'unlocked_recipes_file': 'example/example_data/unlocked_recipes.yml',\n",
    "}\n",
    "OPTIM_PROD_USER_CONF = 'example/example_configurations/optimal_production_user_config.yml'\n",
    "with open(OPTIM_PROD_USER_CONF, 'w') as fp:\n",
    "    yaml.safe_dump(user_config, fp, indent=2)\n",
    "\n",
    "OPTIM_PLAN_OUT_FILE = 'data/phase-3-motors.yml'\n",
    "!python3 main_optimal_production.py {OPTIM_PROD_USER_CONF} --out {OPTIM_PLAN_OUT_FILE}"
   ]
  },
  {
   "cell_type": "markdown",
   "id": "d8aa05af",
   "metadata": {},
   "source": [
    "That is a huge plan. Maybe let's constrain the production to only use the existing power."
   ]
  },
  {
   "cell_type": "code",
   "execution_count": 9,
   "id": "acd9c1ac",
   "metadata": {},
   "outputs": [],
   "source": [
    "recipes_unlocked = game.RecipeFlags.load('example/example_data/unlocked_recipes.yml')\n",
    "recipes_unlocked -= set(\n",
    "    recipe_name\n",
    "    for recipe_name in recipes_unlocked\n",
    "    if 'Generator' in recipe_name\n",
    ")\n",
    "static_production_config['unlocked_recipes'] = sorted(recipes_unlocked)\n",
    "\n",
    "with open(STATIC_PROD_CONF, 'w') as fp:\n",
    "    yaml.safe_dump(static_production_config, fp, indent=2)\n",
    "\n",
    "# unlocked recipes are now defined via STATIC_PROD_CONF file\n",
    "user_config = {\n",
    "    'base_item_rate_file': 'example/example_data/base_item_rate.yml',\n",
    "    'static_production_config_file': STATIC_PROD_CONF,\n",
    "}\n",
    "with open(OPTIM_PROD_USER_CONF, 'w') as fp:\n",
    "    yaml.safe_dump(user_config, fp, indent=2)"
   ]
  },
  {
   "cell_type": "code",
   "execution_count": 10,
   "id": "29e1af2d",
   "metadata": {},
   "outputs": [
    {
     "name": "stdout",
     "output_type": "stream",
     "text": [
      "\n",
      "Power balance (MW):\n",
      "MinerMk1(2.931) = -14.655\n",
      "ConstructorMk1(9.062) = -36.248\n",
      "FoundryMk1(1.075) = -17.2\n",
      "SmelterMk1(4.428) = -17.712\n",
      "AssemblerMk1(6.279) = -94.185\n",
      "Total balance: -180.0 MW\n",
      "\n",
      "Required resource nodes:\n",
      "Desc_Coal_C-non_fracking      0.717\n",
      "Desc_OreCopper_C-non_fracking 0.838\n",
      "Desc_OreIron_C-non_fracking   1.376\n",
      "\n",
      "Sold items (/min):\n",
      "Cable = 30.0\n",
      "Cement = 20.0\n",
      "IronPlateReinforced = 10.5\n",
      "Motor = 8.163\n",
      "SpaceElevatorPart_2 = 10.0\n",
      "\n",
      "Objective value = 8.163\n",
      "\n",
      "Problem solved in 24 milliseconds\n"
     ]
    }
   ],
   "source": [
    "!python3 main_optimal_production.py {OPTIM_PROD_USER_CONF} --out {OPTIM_PLAN_OUT_FILE}"
   ]
  },
  {
   "cell_type": "markdown",
   "id": "d3f35d9f",
   "metadata": {},
   "source": [
    "# Execute the plan\n",
    "The optimized recipes can not be implemented by building the suitable factories.\n",
    "\n",
    "Therefore the building costs need to be collected"
   ]
  },
  {
   "cell_type": "code",
   "execution_count": 11,
   "id": "c26f9b6f",
   "metadata": {},
   "outputs": [
    {
     "name": "stdout",
     "output_type": "stream",
     "text": [
      "\n",
      "Buildings to build:\n",
      "Desc_AssemblerMk1_C   8\n",
      "Desc_ConstructorMk1_C 11\n",
      "Desc_FoundryMk1_C     2\n",
      "Desc_MinerMk1_C       4\n",
      "Desc_SmelterMk1_C     5\n",
      "\n",
      "Investment costs:\n",
      "BP_ItemDescriptorPortableMiner_C 4\n",
      "Desc_Cable_C                     168\n",
      "Desc_Cement_C                    80\n",
      "Desc_IronPlateReinforced_C       86\n",
      "Desc_IronPlate_C                 40\n",
      "Desc_IronRod_C                   25\n",
      "Desc_ModularFrame_C              20\n",
      "Desc_Rotor_C                     52\n",
      "Desc_Wire_C                      40\n"
     ]
    }
   ],
   "source": [
    "import math\n",
    "\n",
    "recipe_plan = game.RecipeValues.load(OPTIM_PLAN_OUT_FILE)\n",
    "\n",
    "full_recipes = game.RecipeValues(\n",
    "    {   \n",
    "        recipe_name: math.ceil(amount)\n",
    "        for recipe_name, amount in recipe_plan.round(10).items()\n",
    "    }\n",
    ")\n",
    "buildings_plan = full_recipes.get_buildings()\n",
    "investment_costs = buildings_plan.get_costs()\n",
    "\n",
    "print('\\nBuildings to build:')\n",
    "buildings_plan.round(3).pprint(0)\n",
    "print('\\nInvestment costs:')\n",
    "investment_costs.round(3).pprint(0)"
   ]
  },
  {
   "cell_type": "markdown",
   "id": "890743c1",
   "metadata": {},
   "source": [
    "Use the graph export to generate a visual representation of the plan. This helps to plan\n",
    "- where which factory should be placed\n",
    "- how to to connect factories"
   ]
  },
  {
   "cell_type": "code",
   "execution_count": 12,
   "id": "d045ca3b",
   "metadata": {},
   "outputs": [],
   "source": [
    "!python3 main_export_graph.py {OPTIM_PLAN_OUT_FILE} --out data/phase-3-motors.gexf"
   ]
  },
  {
   "cell_type": "markdown",
   "id": "6c5d808b",
   "metadata": {},
   "source": [
    "Opening the file **data/graphs/phase-3-motors.gexf** and adjust the appearance:\n",
    "- optimize the layout, e.g. with the Yifan Hu algorithm\n",
    "- color the nodes by partition encoded in the attribute `node_type`\n",
    "- Add node and edge description from label\n",
    "\n",
    "The graph visualized with [Gephi](https://gephi.org/) looks as follows\n",
    "\n",
    "![Visualized Recipe Plan](./docs/optimal_production_graph.png)"
   ]
  }
 ],
 "metadata": {
  "kernelspec": {
   "display_name": "Python 3",
   "language": "python",
   "name": "python3"
  },
  "language_info": {
   "codemirror_mode": {
    "name": "ipython",
    "version": 3
   },
   "file_extension": ".py",
   "mimetype": "text/x-python",
   "name": "python",
   "nbconvert_exporter": "python",
   "pygments_lexer": "ipython3",
   "version": "3.8.10"
  }
 },
 "nbformat": 4,
 "nbformat_minor": 5
}
