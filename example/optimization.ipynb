{
 "cells": [
  {
   "cell_type": "markdown",
   "id": "aca4b2b6",
   "metadata": {},
   "source": [
    "# Examples of Assistory Library: Optimization\n",
    "\n",
    "Table of content\n",
    "- Static Production\n",
    "- Rapid Production"
   ]
  },
  {
   "cell_type": "code",
   "execution_count": 1,
   "id": "2c2d345e",
   "metadata": {},
   "outputs": [],
   "source": [
    "import sys, os\n",
    "os.chdir('..')\n",
    "\n",
    "assert 'assistory' in os.listdir(os.getcwd())\n",
    "sys.path.append(os.getcwd())\n",
    "\n",
    "from assistory import game"
   ]
  },
  {
   "cell_type": "markdown",
   "id": "c1b747ab",
   "metadata": {},
   "source": [
    "## Static Production\n",
    "See [this readme](./../docs/optimal_production.md) for concept behind the static production optimization.\n",
    "\n",
    "In the following an example is shown\n"
   ]
  },
  {
   "cell_type": "code",
   "execution_count": 2,
   "id": "766b92aa",
   "metadata": {},
   "outputs": [],
   "source": [
    "from assistory.optim.static_production_problem_config import StaticProductionLPConfig\n",
    "\n",
    "problem_config = StaticProductionLPConfig(\n",
    "    sell_rate_lower_limits=game.ItemValues({\n",
    "        'Desc_IronScrew_C': 1000\n",
    "    }), # goal is to produce 1000 screws per minute\n",
    "    available_resource_nodes=game.ResourceNodeValues({\n",
    "        game.get_resource_node_name('Desc_Coal_C', fracking=False): 5,\n",
    "        game.get_resource_node_name('Desc_OreCopper_C', fracking=False): 5,\n",
    "        game.get_resource_node_name('Desc_OreIron_C', fracking=False): 5,\n",
    "    }), # these resource nodes are available\n",
    "    unlocked_recipes=game.RecipeFlags(game.RECIPE_NAMES_AUTOMATED), # all recipes unlocked\n",
    "    base_power=0, # power production must be included\n",
    "    base_item_rate=game.ItemValues(), # No existing production\n",
    "    minimize_resource_node_usage=True, # Objective\n",
    "    weights_resource_node=game.ResourceNodeValues({\n",
    "        game.get_resource_node_name('Desc_Coal_C', fracking=False): 0,\n",
    "        game.get_resource_node_name('Desc_OreCopper_C', fracking=False): 1,\n",
    "        game.get_resource_node_name('Desc_OreIron_C', fracking=False): 1,\n",
    "    }), # coal can be used freely, but usage of copper and iron should be minimized\n",
    ")"
   ]
  },
  {
   "cell_type": "markdown",
   "id": "f4c72283",
   "metadata": {},
   "source": [
    "Now, the problem is set up. The next step is to run the optimization and to retrieve the result when possible."
   ]
  },
  {
   "cell_type": "code",
   "execution_count": 3,
   "id": "fc3a8179",
   "metadata": {},
   "outputs": [
    {
     "name": "stdout",
     "output_type": "stream",
     "text": [
      "Found optimal solution: 0.093 resource nodes used\n",
      "Resource nodes used:\n",
      "Desc_Coal_C-non_fracking    0.668\n",
      "Desc_OreIron_C-non_fracking 0.093\n"
     ]
    }
   ],
   "source": [
    "from assistory.optim.static_production_problem import StaticProductionLP\n",
    "from assistory.optim.static_flow_problem import ReturnCode\n",
    "\n",
    "problem = StaticProductionLP(problem_config)\n",
    "\n",
    "ret = problem.optimize()\n",
    "if ret == ReturnCode.OPTIMAL:\n",
    "    objective_val = round(problem.objective_value, 3)\n",
    "    print('Found optimal solution:', objective_val, 'resource nodes used')\n",
    "\n",
    "recipes_used = problem.get_recipes_used()\n",
    "print('Resource nodes used:')\n",
    "recipes_used.get_resource_nodes_used().round(3).pprint(ignore_value=0)"
   ]
  },
  {
   "cell_type": "markdown",
   "id": "f283cd1f",
   "metadata": {},
   "source": [
    "The production plan now can be retrieved."
   ]
  },
  {
   "cell_type": "code",
   "execution_count": 4,
   "id": "cdaed6ef",
   "metadata": {},
   "outputs": [
    {
     "name": "stdout",
     "output_type": "stream",
     "text": [
      "Recipes used:\n",
      "Recipe_Alternate_IngotSteel_1_C  1.042\n",
      "Recipe_Alternate_PureIronIngot_C 0.641\n",
      "Recipe_Alternate_SteelRod_C      5.208\n",
      "Recipe_GeneratorCoalCoal_C       2.564\n",
      "Recipe_MinerMk2Coal_C            0.668\n",
      "Recipe_MinerMk3OreIron_C         0.093\n",
      "Recipe_Screw_C                   25.0\n",
      "Recipe_WaterPumpWater_C          1.068\n"
     ]
    }
   ],
   "source": [
    "print('Recipes used:')\n",
    "recipes_used.round(3).pprint(ignore_value=0)"
   ]
  },
  {
   "cell_type": "markdown",
   "id": "57241563",
   "metadata": {},
   "source": [
    "## Rapid Production\n",
    "See [this readme](./../rapid_production.md) for concept behind the rapid production optimization.\n",
    "\n",
    "In the following an example of using the `IterativeProductionProblem` class is shown. It minimizes the recipes used for a fixes number of steps and step duration.\n"
   ]
  },
  {
   "cell_type": "code",
   "execution_count": 5,
   "id": "bd09eb2f",
   "metadata": {},
   "outputs": [],
   "source": [
    "from assistory.optim.rapid_production_problem_config import RapidProductionProblemConfig\n",
    "\n",
    "rapid_problem_config = RapidProductionProblemConfig(\n",
    "    S=game.ItemValues({\n",
    "        'Desc_OreIron_C': 10,\n",
    "        'Desc_IronRod_C': 5,\n",
    "        'Desc_Wire_C': 8\n",
    "    }),\n",
    "    G=game.ItemValues({\n",
    "        'Desc_IronIngot_C': 100\n",
    "    }),\n",
    "    unlocked_recipes=game.RecipeFlags({\n",
    "        'Recipe_HandcraftOreIron_C',\n",
    "        'Recipe_IngotIron_C',\n",
    "        'Recipe_IronPlate_C',\n",
    "        'Recipe_IronRod_C',\n",
    "    }),\n",
    "    maximal_step_count=5, # maximal number of steps\n",
    "    step_duration=1,\n",
    ")"
   ]
  },
  {
   "cell_type": "markdown",
   "id": "75ecfa91",
   "metadata": {},
   "source": [
    "The solution is a rapid plan. It's steps can be accessed via the attibutes or they can be printed conventiently by the function `print_debug` of the plan."
   ]
  },
  {
   "cell_type": "code",
   "execution_count": 6,
   "id": "43d323cb",
   "metadata": {},
   "outputs": [
    {
     "name": "stdout",
     "output_type": "stream",
     "text": [
      "Recipes used: 2.375\n",
      "Recipes used by step (Step, Handcraft, Automated):\n",
      "0 {'Recipe_IngotIron_C': 0.125} {}\n",
      "1 {} {}\n",
      "2 {'Recipe_HandcraftOreIron_C': 0.75} {}\n",
      "3 {'Recipe_HandcraftOreIron_C': 0.375, 'Recipe_IngotIron_C': 0.375} {}\n",
      "4 {'Recipe_IngotIron_C': 0.75} {}\n"
     ]
    }
   ],
   "source": [
    "from assistory.optim.iterative_production_problem import IterativeProductionProblem\n",
    "\n",
    "iterative_problem_config = rapid_problem_config.get_iterative_production_problem_config(5)\n",
    "problem = IterativeProductionProblem(iterative_problem_config)\n",
    "status = problem.optimize()\n",
    "assert status == ReturnCode.OPTIMAL\n",
    "recipe_count = problem.objective_value\n",
    "print('Recipes used:', recipe_count)\n",
    "\n",
    "rapid_plan = problem.get_rapid_plan().round(3)\n",
    "print('Recipes used by step (Step, Handcraft, Automated):')\n",
    "for i in range(5):\n",
    "    print(\n",
    "        i,\n",
    "        rapid_plan.steps_recipes_handcraft[i],\n",
    "        rapid_plan.steps_recipes_automated[i]\n",
    "    )"
   ]
  },
  {
   "cell_type": "markdown",
   "id": "06f5ed78",
   "metadata": {},
   "source": [
    "When, also the number of steps should be minized, use the following code"
   ]
  },
  {
   "cell_type": "code",
   "execution_count": 7,
   "id": "15040e03",
   "metadata": {},
   "outputs": [
    {
     "name": "stdout",
     "output_type": "stream",
     "text": [
      "Steps used: 3\n",
      "Total recipes used: 3.0\n",
      "Recipes used by step (handcraft, automated):\n",
      "0 {'Recipe_HandcraftOreIron_C': 0.75} {'Recipe_IngotIron_C': 1.0}\n",
      "1 {'Recipe_HandcraftOreIron_C': 0.375, 'Recipe_IngotIron_C': 0.375} {}\n",
      "2 {'Recipe_IngotIron_C': 0.5} {}\n"
     ]
    }
   ],
   "source": [
    "from assistory.optim.rapid_production_problem import RapidProductionProblem\n",
    "\n",
    "problem = RapidProductionProblem(rapid_problem_config)\n",
    "status = problem.optimize()\n",
    "assert status == ReturnCode.OPTIMAL\n",
    "step_count = problem.objective_value\n",
    "print('Steps used:', step_count)\n",
    "\n",
    "rapid_plan = problem.get_rapid_plan()\n",
    "recipes_used_cnt = sum(\n",
    "    sum(rapid_plan.steps_recipes_automated[step_id].values())\n",
    "    + sum(rapid_plan.steps_recipes_handcraft[step_id].values())\n",
    "    for step_id in range(step_count)\n",
    ")\n",
    "print('Total recipes used:', round(recipes_used_cnt, 3))\n",
    "\n",
    "rapid_plan = rapid_plan.round(3)\n",
    "print('Recipes used by step (handcraft, automated):')\n",
    "for i in range(step_count):\n",
    "    print(\n",
    "        i,\n",
    "        rapid_plan.steps_recipes_handcraft[i],\n",
    "        rapid_plan.steps_recipes_automated[i]\n",
    "    )"
   ]
  },
  {
   "cell_type": "markdown",
   "id": "2fa11a07",
   "metadata": {},
   "source": [
    "As can be observed, now only 3 steps are required. However, the number of recipes used is slightly larger compared to when using 5 steps."
   ]
  }
 ],
 "metadata": {
  "kernelspec": {
   "display_name": "Python 3",
   "language": "python",
   "name": "python3"
  },
  "language_info": {
   "codemirror_mode": {
    "name": "ipython",
    "version": 3
   },
   "file_extension": ".py",
   "mimetype": "text/x-python",
   "name": "python",
   "nbconvert_exporter": "python",
   "pygments_lexer": "ipython3",
   "version": "3.8.10"
  }
 },
 "nbformat": 4,
 "nbformat_minor": 5
}
