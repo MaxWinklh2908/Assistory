{
 "cells": [
  {
   "cell_type": "markdown",
   "id": "2afc8b6b",
   "metadata": {},
   "source": [
    "# Examples of Assistory Library: Reading and writing\n",
    "\n",
    "Table of content\n",
    "- Values\n",
    "- Flags"
   ]
  },
  {
   "cell_type": "code",
   "execution_count": null,
   "id": "2456381b",
   "metadata": {},
   "outputs": [],
   "source": [
    "import sys, os\n",
    "os.chdir('..')\n",
    "\n",
    "assert 'assistory' in os.listdir(os.getcwd())\n",
    "sys.path.append(os.getcwd())\n",
    "\n",
    "from assistory import game"
   ]
  },
  {
   "cell_type": "markdown",
   "id": "2d83e1b6",
   "metadata": {},
   "source": [
    "## Values\n",
    "There are four types of `Values` subclasses:\n",
    "- ItemValues\n",
    "- BuildingValues\n",
    "- ResourceNodeValues\n",
    "- RecipeValues\n",
    "\n",
    "There is no SchematicValues, because no use case was identified for it so far.\n",
    "\n",
    "Each can be read from file and stored to file in the same way"
   ]
  },
  {
   "cell_type": "code",
   "execution_count": null,
   "id": "38f4cd38",
   "metadata": {},
   "outputs": [
    {
     "name": "stdout",
     "output_type": "stream",
     "text": [
      "\u001b[01;34mdocs/example/example_data/\u001b[00m\n",
      "├── base_item_rate.yml\n",
      "├── base_items.yml\n",
      "├── base_recipe_count.yml\n",
      "├── occupied_resource_nodes.yml\n",
      "├── unlocked_buildings.yml\n",
      "├── unlocked_recipes.yml\n",
      "└── unlocked_schematics.yml\n",
      "\n",
      "0 directories, 7 files\n",
      "\u001b[01;34mdocs/example/example_data/\u001b[00m\n",
      "├── base_items.yml\n",
      "├── base_recipe_count.yml\n",
      "├── occupied_resource_nodes.yml\n",
      "├── unlocked_buildings.yml\n",
      "├── unlocked_recipes.yml\n",
      "└── unlocked_schematics.yml\n",
      "\n",
      "0 directories, 6 files\n",
      "\u001b[01;34mdocs/example/example_data/\u001b[00m\n",
      "├── base_item_rate.yml\n",
      "├── base_items.yml\n",
      "├── base_recipe_count.yml\n",
      "├── occupied_resource_nodes.yml\n",
      "├── unlocked_buildings.yml\n",
      "├── unlocked_recipes.yml\n",
      "└── unlocked_schematics.yml\n",
      "\n",
      "0 directories, 7 files\n"
     ]
    }
   ],
   "source": [
    "# Load example file\n",
    "base_item_rate = game.ItemValues.load('example/example_data/base_item_rate.yml')\n",
    "!tree example/example_data/\n",
    "\n",
    "# Delete example file\n",
    "!rm example/example_data/base_item_rate.yml\n",
    "!tree example/example_data/\n",
    "\n",
    "# Recreate example file\n",
    "base_item_rate.save('example/example_data/base_item_rate.yml', ignore_value=0)\n",
    "!tree example/example_data/"
   ]
  },
  {
   "cell_type": "markdown",
   "id": "74381d29",
   "metadata": {},
   "source": [
    "As each `Values` class stores the values for each possible entry, the `ignore_value` parameter helps to keep files informative: Only key-value pairs with a value other than the ignored value are written to file.\n",
    "\n",
    "## Flags\n",
    "There are four types of `Flags` subclasses:\n",
    "- ItemFlags\n",
    "- BuildingFalgs\n",
    "- RecipeFlags\n",
    "- SchematicFlags\n",
    "\n",
    "There is no ResourceNodeFlags, because no use case was identified for it so far.\n",
    "\n",
    "Each can be read from file and stored to file in the same way"
   ]
  },
  {
   "cell_type": "code",
   "execution_count": null,
   "id": "e40acd46",
   "metadata": {},
   "outputs": [
    {
     "name": "stdout",
     "output_type": "stream",
     "text": [
      "\u001b[01;34mdocs/example/example_data/\u001b[00m\n",
      "├── base_item_rate.yml\n",
      "├── base_items.yml\n",
      "├── base_recipe_count.yml\n",
      "├── occupied_resource_nodes.yml\n",
      "├── unlocked_buildings.yml\n",
      "├── unlocked_recipes.yml\n",
      "└── unlocked_schematics.yml\n",
      "\n",
      "0 directories, 7 files\n",
      "\u001b[01;34mdocs/example/example_data/\u001b[00m\n",
      "├── base_item_rate.yml\n",
      "├── base_items.yml\n",
      "├── base_recipe_count.yml\n",
      "├── occupied_resource_nodes.yml\n",
      "├── unlocked_buildings.yml\n",
      "└── unlocked_schematics.yml\n",
      "\n",
      "0 directories, 6 files\n",
      "\u001b[01;34mdocs/example/example_data/\u001b[00m\n",
      "├── base_item_rate.yml\n",
      "├── base_items.yml\n",
      "├── base_recipe_count.yml\n",
      "├── occupied_resource_nodes.yml\n",
      "├── unlocked_buildings.yml\n",
      "├── unlocked_recipes.yml\n",
      "└── unlocked_schematics.yml\n",
      "\n",
      "0 directories, 7 files\n"
     ]
    }
   ],
   "source": [
    "# Load example file\n",
    "unlocked_recipes = game.RecipeFlags.load('example/example_data/unlocked_recipes.yml')\n",
    "!tree example/example_data/\n",
    "\n",
    "# Delete example file\n",
    "!rm example/example_data/unlocked_recipes.yml\n",
    "!tree example/example_data/\n",
    "\n",
    "# Recreate example file\n",
    "unlocked_recipes.save('example/example_data/unlocked_recipes.yml')\n",
    "!tree example/example_data/"
   ]
  }
 ],
 "metadata": {
  "kernelspec": {
   "display_name": "Python 3",
   "language": "python",
   "name": "python3"
  },
  "language_info": {
   "codemirror_mode": {
    "name": "ipython",
    "version": 3
   },
   "file_extension": ".py",
   "mimetype": "text/x-python",
   "name": "python",
   "nbconvert_exporter": "python",
   "pygments_lexer": "ipython3",
   "version": "3.8.10"
  }
 },
 "nbformat": 4,
 "nbformat_minor": 5
}
